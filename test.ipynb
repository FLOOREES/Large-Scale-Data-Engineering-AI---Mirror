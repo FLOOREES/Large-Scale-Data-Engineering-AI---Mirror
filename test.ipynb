{
 "cells": [
  {
   "cell_type": "code",
   "execution_count": 2,
   "metadata": {},
   "outputs": [
    {
     "data": {
      "text/plain": [
       "True"
      ]
     },
     "execution_count": 2,
     "metadata": {},
     "output_type": "execute_result"
    }
   ],
   "source": [
    "import requests\n",
    "from dotenv import load_dotenv\n",
    "import os\n",
    "\n",
    "load_dotenv()"
   ]
  },
  {
   "cell_type": "code",
   "execution_count": null,
   "metadata": {},
   "outputs": [],
   "source": [
    "year = '2025'\n",
    "month = '01'\n",
    "day = '01'"
   ]
  },
  {
   "cell_type": "code",
   "execution_count": null,
   "metadata": {},
   "outputs": [],
   "source": [
    "# sufix_stations_metadata = '/estacions/metadades'\n",
    "# sufix_variables_metadata = '/variables/mesurades/metadades'\n",
    "\n",
    "id_station = 'C7'\n",
    "id_variable = '3'\n",
    "\n",
    "sufix_stations_measurements = f'/estacions/mesurades/{id_station}/{year}/{month}/{day}'\n",
    "sufix_variable_measurements = f'/variables/mesurades/{id_variable}/{year}/{month}/{day}'"
   ]
  },
  {
   "cell_type": "code",
   "execution_count": null,
   "metadata": {},
   "outputs": [
    {
     "name": "stdout",
     "output_type": "stream",
     "text": [
      "Status code: 200\n"
     ]
    }
   ],
   "source": [
    "key = os.getenv('API_KEY')\n",
    "base = 'https://api.meteo.cat/xema/v1'\n",
    "\n",
    "url = base + \n",
    " \n",
    "response = requests.get(url, headers={\"Content-Type\": \"application/json\", \"X-Api-Key\": key})\n",
    "\n",
    "print(f\"Status code: {response.status_code}\")"
   ]
  },
  {
   "cell_type": "code",
   "execution_count": 41,
   "metadata": {},
   "outputs": [],
   "source": [
    "import json\n",
    "\n",
    "data = response.json()\n",
    "\n",
    "# Save the JSON response to a file\n",
    "with open('data/meteocat_stations_metadata.json', 'w', encoding='utf-8') as f:\n",
    "\tjson.dump(data, f, indent=4)"
   ]
  },
  {
   "cell_type": "code",
   "execution_count": 39,
   "metadata": {},
   "outputs": [
    {
     "data": {
      "text/plain": [
       "{'codi': 72,\n",
       " 'nom': 'Precipitació màxima en 1 minut',\n",
       " 'unitat': 'mm',\n",
       " 'acronim': 'PPTx1min',\n",
       " 'tipus': 'DAT',\n",
       " 'decimals': 1}"
      ]
     },
     "execution_count": 39,
     "metadata": {},
     "output_type": "execute_result"
    }
   ],
   "source": [
    "response[59]"
   ]
  },
  {
   "cell_type": "code",
   "execution_count": 37,
   "metadata": {},
   "outputs": [],
   "source": [
    "response = json.loads(open('data/meteocat_variables_metadada.json', 'r').read())"
   ]
  }
 ],
 "metadata": {
  "kernelspec": {
   "display_name": "Python 3",
   "language": "python",
   "name": "python3"
  },
  "language_info": {
   "codemirror_mode": {
    "name": "ipython",
    "version": 3
   },
   "file_extension": ".py",
   "mimetype": "text/x-python",
   "name": "python",
   "nbconvert_exporter": "python",
   "pygments_lexer": "ipython3",
   "version": "3.11.2"
  }
 },
 "nbformat": 4,
 "nbformat_minor": 2
}
