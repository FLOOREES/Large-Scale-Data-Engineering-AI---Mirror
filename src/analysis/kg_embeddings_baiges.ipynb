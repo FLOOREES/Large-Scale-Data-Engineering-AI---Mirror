{
 "cells": [
  {
   "cell_type": "code",
   "execution_count": 7,
   "id": "5f989594",
   "metadata": {},
   "outputs": [
    {
     "name": "stdout",
     "output_type": "stream",
     "text": [
      "\u001b[34manalysis\u001b[m\u001b[m        \u001b[34mexploitation\u001b[m\u001b[m    \u001b[34mlanding\u001b[m\u001b[m         \u001b[34mtrusted\u001b[m\u001b[m\n",
      "\u001b[34manalysis_output\u001b[m\u001b[m \u001b[34mformatted\u001b[m\u001b[m       \u001b[34mrelations\u001b[m\u001b[m\n"
     ]
    }
   ],
   "source": [
    "!ls ../../data"
   ]
  },
  {
   "cell_type": "code",
   "execution_count": 1,
   "id": "eb93a2d9",
   "metadata": {},
   "outputs": [
    {
     "name": "stderr",
     "output_type": "stream",
     "text": [
      "/Users/rogerbaigess/Desktop/IA/3r/BDA/large-scale-data-engineering-ai/.venv/lib/python3.10/site-packages/tqdm/auto.py:21: TqdmWarning: IProgress not found. Please update jupyter and ipywidgets. See https://ipywidgets.readthedocs.io/en/stable/user_install.html\n",
      "  from .autonotebook import tqdm as notebook_tqdm\n"
     ]
    },
    {
     "name": "stdout",
     "output_type": "stream",
     "text": [
      "PyKEEN version: 1.11.1\n",
      "PyTorch version: 2.7.1\n"
     ]
    }
   ],
   "source": [
    "# --- Imports and Setup ---\n",
    "\n",
    "import pandas as pd\n",
    "import torch\n",
    "from pathlib import Path\n",
    "import matplotlib.pyplot as plt\n",
    "import seaborn as sns\n",
    "\n",
    "# PyKEEN imports\n",
    "from pykeen.pipeline import pipeline\n",
    "from pykeen.triples import TriplesFactory\n",
    "import pykeen.version\n",
    "\n",
    "# RDFLib for initial graph processing\n",
    "import rdflib\n",
    "from rdflib import Graph\n",
    "\n",
    "print(f\"PyKEEN version: {pykeen.version.get_version()}\")\n",
    "print(f\"PyTorch version: {torch.__version__}\")\n",
    "\n",
    "# --- Configuration ---\n",
    "KG_PATH = \"../../data/exploitation/knowledge_graph.ttl\"\n",
    "OUTPUT_DIR = Path(\"../../data/analysis/embeddings\")\n",
    "OUTPUT_DIR.mkdir(parents=True, exist_ok=True)\n",
    "TRIPLES_PATH = OUTPUT_DIR / \"kg_triples_for_pykeen.tsv\""
   ]
  },
  {
   "cell_type": "code",
   "execution_count": 2,
   "id": "97a1905d",
   "metadata": {},
   "outputs": [
    {
     "name": "stdout",
     "output_type": "stream",
     "text": [
      "Loading full Knowledge Graph from: ../../data/exploitation/knowledge_graph.ttl\n",
      "Graph loaded successfully with 180513 triples.\n",
      "\n",
      "Filtering graph to exclude triples with literal objects...\n",
      "Filtered down to 78126 entity-relation-entity triples.\n",
      "Saving filtered triples to: ../../data/analysis/embeddings/kg_triples_for_pykeen.tsv\n",
      "Data preparation for PyKEEN complete.\n"
     ]
    }
   ],
   "source": [
    "# --- Load and Filter Knowledge Graph for KGE Models ---\n",
    "\n",
    "print(f\"Loading full Knowledge Graph from: {KG_PATH}\")\n",
    "g = Graph()\n",
    "try:\n",
    "    g.parse(KG_PATH, format=\"turtle\")\n",
    "    print(f\"Graph loaded successfully with {len(g)} triples.\")\n",
    "except FileNotFoundError:\n",
    "    print(f\"ERROR: Knowledge Graph file not found at {KG_PATH}. Please run the exploitation zone script first.\")\n",
    "    raise\n",
    "\n",
    "# --- Data Preparation for PyKEEN ---\n",
    "# KGE models like TransE and DistMult work with entity-relation-entity triples.\n",
    "# We will filter the graph to keep ONLY these structural triples.\n",
    "# We are completely ignoring triples with literal objects for this training phase.\n",
    "\n",
    "print(\"\\nFiltering graph to exclude triples with literal objects...\")\n",
    "entity_triples = []\n",
    "for s, p, o in g:\n",
    "    # The condition is simple: the subject (s) and object (o) must be URIs (entities).\n",
    "    # The predicate (p) is always a URI.\n",
    "    if isinstance(s, rdflib.URIRef) and isinstance(o, rdflib.URIRef):\n",
    "        entity_triples.append((str(s), str(p), str(o)))\n",
    "\n",
    "print(f\"Filtered down to {len(entity_triples)} entity-relation-entity triples.\")\n",
    "\n",
    "# Save the filtered triples to a TSV file for PyKEEN\n",
    "print(f\"Saving filtered triples to: {TRIPLES_PATH}\")\n",
    "with open(TRIPLES_PATH, \"w\") as f:\n",
    "    # Add a header for clarity, though PyKEEN doesn't strictly need it\n",
    "    # f.write(\"head\\trelation\\ttail\\n\") \n",
    "    for s, p, o in entity_triples:\n",
    "        f.write(f\"{s}\\t{p}\\t{o}\\n\")\n",
    "\n",
    "print(\"Data preparation for PyKEEN complete.\")"
   ]
  },
  {
   "cell_type": "code",
   "execution_count": 3,
   "id": "9178d373",
   "metadata": {},
   "outputs": [
    {
     "name": "stdout",
     "output_type": "stream",
     "text": [
      "Dataset split successfully:\n",
      "  Training triples:   62500\n",
      "  Validation triples: 7813\n",
      "  Testing triples:    7813\n",
      "  Total entities:     29332\n",
      "  Total relations:    16\n"
     ]
    }
   ],
   "source": [
    "# --- Create and Split PyKEEN Dataset ---\n",
    "\n",
    "# Create a TriplesFactory from our TSV file\n",
    "tf = TriplesFactory.from_path(TRIPLES_PATH, create_inverse_triples=True) # Adding inverse triples can help some models\n",
    "\n",
    "# Split the data into training, validation, and testing sets\n",
    "training_set, validation_set, testing_set = tf.split([0.8, 0.1, 0.1], random_state=42)\n",
    "\n",
    "print(\"Dataset split successfully:\")\n",
    "print(f\"  Training triples:   {training_set.num_triples}\")\n",
    "print(f\"  Validation triples: {validation_set.num_triples}\")\n",
    "print(f\"  Testing triples:    {testing_set.num_triples}\")\n",
    "print(f\"  Total entities:     {tf.num_entities}\")\n",
    "print(f\"  Total relations:    {tf.num_relations}\")"
   ]
  },
  {
   "cell_type": "code",
   "execution_count": 4,
   "id": "5c82f5ba",
   "metadata": {},
   "outputs": [],
   "source": [
    "# --- Helper Function for Training and Evaluation ---\n",
    "\n",
    "def run_kge_pipeline(training, validation, testing, model_name, embedding_dim=100, epochs=100):\n",
    "    \"\"\"\n",
    "    Runs the PyKEEN pipeline for a given model and returns the results.\n",
    "    \"\"\"\n",
    "    print(f\"\\n{'='*20} Starting Pipeline for {model_name} {'='*20}\")\n",
    "    \n",
    "    result = pipeline(\n",
    "        training=training,\n",
    "        validation=validation,\n",
    "        testing=testing,\n",
    "        model=model_name,\n",
    "        model_kwargs=dict(embedding_dim=embedding_dim),\n",
    "        training_kwargs=dict(\n",
    "            num_epochs=epochs,\n",
    "            batch_size=256,\n",
    "            use_tqdm_batch=False\n",
    "        ),\n",
    "        negative_sampler='basic',\n",
    "        evaluation_kwargs=dict(batch_size=256),\n",
    "        stopper='early',\n",
    "        stopper_kwargs=dict(frequency=5, patience=3, metric='hits@10'),\n",
    "        random_seed=42,\n",
    "        device='cpu',\n",
    "    )\n",
    "    \n",
    "    print(f\"--- Pipeline for {model_name} complete. ---\")\n",
    "    return result"
   ]
  },
  {
   "cell_type": "code",
   "execution_count": 5,
   "id": "30b62f72",
   "metadata": {},
   "outputs": [
    {
     "name": "stdout",
     "output_type": "stream",
     "text": [
      "\n",
      "==================== Starting Pipeline for TransE ====================\n"
     ]
    },
    {
     "name": "stderr",
     "output_type": "stream",
     "text": [
      "INFO:pykeen.triples.triples_factory:Creating inverse triples.\n",
      "/Users/rogerbaigess/Desktop/IA/3r/BDA/large-scale-data-engineering-ai/.venv/lib/python3.10/site-packages/torch/utils/data/dataloader.py:683: UserWarning: 'pin_memory' argument is set as true but not supported on MPS now, then device pinned memory won't be used.\n",
      "  warnings.warn(warn_msg)\n",
      "Training epochs on cpu:   0%|          | 0/100 [00:00<?, ?epoch/s]INFO:pykeen.triples.triples_factory:Creating inverse triples.\n",
      "Training epochs on cpu:   4%|▍         | 4/100 [00:17<05:34,  3.49s/epoch, loss=0.256, prev_loss=0.317]WARNING:torch_max_mem.api:Encountered tensors on device_types={'cpu'} while only ['cuda'] are considered safe for automatic memory utilization maximization. This may lead to undocumented crashes (but can be safe, too).\n",
      "INFO:pykeen.evaluation.evaluator:Evaluation took 50.95s seconds\n",
      "INFO:pykeen.stoppers.early_stopping:New best result at epoch 5: 0.09720977857417125. Saved model weights to /Users/rogerbaigess/.data/pykeen/checkpoints/best-model-weights-0f1b47bf-79bd-44da-86bd-67f9bcf312bf.pt\n",
      "INFO:pykeen.training.training_loop:=> Saved checkpoint after having finished epoch 5.\n",
      "Training epochs on cpu:   9%|▉         | 9/100 [01:24<10:44,  7.08s/epoch, loss=0.138, prev_loss=0.151]WARNING:pykeen.utils:Using automatic batch size on device.type='cpu' can cause unexplained out-of-memory crashes. Therefore, we use a conservative small batch_size=32. Performance may be improved by explicitly specifying a larger batch size.\n",
      "WARNING:torch_max_mem.api:Encountered tensors on device_types={'cpu'} while only ['cuda'] are considered safe for automatic memory utilization maximization. This may lead to undocumented crashes (but can be safe, too).\n",
      "INFO:pykeen.evaluation.evaluator:Evaluation took 48.95s seconds\n",
      "Training epochs on cpu:  14%|█▍        | 14/100 [02:30<10:53,  7.60s/epoch, loss=0.118, prev_loss=0.12] WARNING:pykeen.utils:Using automatic batch size on device.type='cpu' can cause unexplained out-of-memory crashes. Therefore, we use a conservative small batch_size=32. Performance may be improved by explicitly specifying a larger batch size.\n",
      "WARNING:torch_max_mem.api:Encountered tensors on device_types={'cpu'} while only ['cuda'] are considered safe for automatic memory utilization maximization. This may lead to undocumented crashes (but can be safe, too).\n",
      "INFO:pykeen.evaluation.evaluator:Evaluation took 50.68s seconds\n",
      "Training epochs on cpu:  19%|█▉        | 19/100 [03:38<10:32,  7.81s/epoch, loss=0.108, prev_loss=0.112]WARNING:pykeen.utils:Using automatic batch size on device.type='cpu' can cause unexplained out-of-memory crashes. Therefore, we use a conservative small batch_size=32. Performance may be improved by explicitly specifying a larger batch size.\n",
      "WARNING:torch_max_mem.api:Encountered tensors on device_types={'cpu'} while only ['cuda'] are considered safe for automatic memory utilization maximization. This may lead to undocumented crashes (but can be safe, too).\n",
      "INFO:pykeen.evaluation.evaluator:Evaluation took 52.13s seconds\n",
      "INFO:pykeen.stoppers.early_stopping:Stopping early at epoch 20. The best result 0.09720977857417125 occurred at epoch 5.\n",
      "INFO:pykeen.stoppers.early_stopping:Re-loading weights from best epoch from /Users/rogerbaigess/.data/pykeen/checkpoints/best-model-weights-0f1b47bf-79bd-44da-86bd-67f9bcf312bf.pt\n",
      "Training epochs on cpu:  19%|█▉        | 19/100 [04:30<19:13, 14.24s/epoch, loss=0.108, prev_loss=0.112]\n",
      "Evaluating on cpu:   0%|          | 0.00/7.81k [00:00<?, ?triple/s]WARNING:torch_max_mem.api:Encountered tensors on device_types={'cpu'} while only ['cuda'] are considered safe for automatic memory utilization maximization. This may lead to undocumented crashes (but can be safe, too).\n",
      "Evaluating on cpu: 100%|██████████| 7.81k/7.81k [00:48<00:00, 160triple/s]\n",
      "INFO:pykeen.evaluation.evaluator:Evaluation took 48.97s seconds\n",
      "INFO:pykeen.triples.triples_factory:Stored TriplesFactory(num_entities=29332, num_relations=16, create_inverse_triples=True, num_triples=62500, path=\"/Users/rogerbaigess/Desktop/IA/3r/BDA/large-scale-data-engineering-ai/data/analysis/embeddings/kg_triples_for_pykeen.tsv\") to file:///Users/rogerbaigess/Desktop/IA/3r/BDA/large-scale-data-engineering-ai/data/analysis/embeddings/transe_model/training_triples\n"
     ]
    },
    {
     "name": "stdout",
     "output_type": "stream",
     "text": [
      "--- Pipeline for TransE complete. ---\n"
     ]
    },
    {
     "name": "stderr",
     "output_type": "stream",
     "text": [
      "INFO:pykeen.pipeline.api:Saved to directory: /Users/rogerbaigess/Desktop/IA/3r/BDA/large-scale-data-engineering-ai/data/analysis/embeddings/transe_model\n",
      "INFO:pykeen.pipeline.api:Using device: cpu\n",
      "INFO:pykeen.nn.representation:Inferred unique=False for Embedding()\n",
      "INFO:pykeen.nn.representation:Inferred unique=False for Embedding(\n",
      "  (regularizer): LpRegularizer()\n",
      ")\n",
      "INFO:pykeen.stoppers.early_stopping:Inferred checkpoint path for best model weights: /Users/rogerbaigess/.data/pykeen/checkpoints/best-model-weights-79d53da0-5767-4045-a8a0-f419d4a24b94.pt\n",
      "INFO:pykeen.triples.triples_factory:Creating inverse triples.\n",
      "/Users/rogerbaigess/Desktop/IA/3r/BDA/large-scale-data-engineering-ai/.venv/lib/python3.10/site-packages/torch/utils/data/dataloader.py:683: UserWarning: 'pin_memory' argument is set as true but not supported on MPS now, then device pinned memory won't be used.\n",
      "  warnings.warn(warn_msg)\n"
     ]
    },
    {
     "name": "stdout",
     "output_type": "stream",
     "text": [
      "\n",
      "==================== Starting Pipeline for DistMult ====================\n"
     ]
    },
    {
     "name": "stderr",
     "output_type": "stream",
     "text": [
      "Training epochs on cpu:   0%|          | 0/100 [00:00<?, ?epoch/s]INFO:pykeen.triples.triples_factory:Creating inverse triples.\n",
      "Training epochs on cpu:   4%|▍         | 4/100 [00:16<05:14,  3.27s/epoch, loss=1, prev_loss=1]     WARNING:torch_max_mem.api:Encountered tensors on device_types={'cpu'} while only ['cuda'] are considered safe for automatic memory utilization maximization. This may lead to undocumented crashes (but can be safe, too).\n",
      "INFO:pykeen.evaluation.evaluator:Evaluation took 16.18s seconds\n",
      "INFO:pykeen.stoppers.early_stopping:New best result at epoch 5: 0.002367848457698707. Saved model weights to /Users/rogerbaigess/.data/pykeen/checkpoints/best-model-weights-79d53da0-5767-4045-a8a0-f419d4a24b94.pt\n",
      "INFO:pykeen.training.training_loop:=> Saved checkpoint after having finished epoch 5.\n",
      "Training epochs on cpu:   9%|▉         | 9/100 [00:51<07:42,  5.08s/epoch, loss=0.999, prev_loss=0.999]WARNING:pykeen.utils:Using automatic batch size on device.type='cpu' can cause unexplained out-of-memory crashes. Therefore, we use a conservative small batch_size=32. Performance may be improved by explicitly specifying a larger batch size.\n",
      "WARNING:torch_max_mem.api:Encountered tensors on device_types={'cpu'} while only ['cuda'] are considered safe for automatic memory utilization maximization. This may lead to undocumented crashes (but can be safe, too).\n",
      "INFO:pykeen.evaluation.evaluator:Evaluation took 12.66s seconds\n",
      "INFO:pykeen.stoppers.early_stopping:New best result at epoch 10: 0.004223729681300397. Saved model weights to /Users/rogerbaigess/.data/pykeen/checkpoints/best-model-weights-79d53da0-5767-4045-a8a0-f419d4a24b94.pt\n",
      "INFO:pykeen.training.training_loop:=> Saved checkpoint after having finished epoch 10.\n",
      "Training epochs on cpu:  14%|█▍        | 14/100 [01:22<06:54,  4.82s/epoch, loss=0.953, prev_loss=0.963]WARNING:pykeen.utils:Using automatic batch size on device.type='cpu' can cause unexplained out-of-memory crashes. Therefore, we use a conservative small batch_size=32. Performance may be improved by explicitly specifying a larger batch size.\n",
      "WARNING:torch_max_mem.api:Encountered tensors on device_types={'cpu'} while only ['cuda'] are considered safe for automatic memory utilization maximization. This may lead to undocumented crashes (but can be safe, too).\n",
      "INFO:pykeen.evaluation.evaluator:Evaluation took 11.09s seconds\n",
      "INFO:pykeen.stoppers.early_stopping:New best result at epoch 15: 0.1593498016126968. Saved model weights to /Users/rogerbaigess/.data/pykeen/checkpoints/best-model-weights-79d53da0-5767-4045-a8a0-f419d4a24b94.pt\n",
      "INFO:pykeen.training.training_loop:=> Saved checkpoint after having finished epoch 15.\n",
      "Training epochs on cpu:  19%|█▉        | 19/100 [01:57<07:52,  5.83s/epoch, loss=0.663, prev_loss=0.707]WARNING:pykeen.utils:Using automatic batch size on device.type='cpu' can cause unexplained out-of-memory crashes. Therefore, we use a conservative small batch_size=32. Performance may be improved by explicitly specifying a larger batch size.\n",
      "WARNING:torch_max_mem.api:Encountered tensors on device_types={'cpu'} while only ['cuda'] are considered safe for automatic memory utilization maximization. This may lead to undocumented crashes (but can be safe, too).\n",
      "INFO:pykeen.evaluation.evaluator:Evaluation took 14.59s seconds\n",
      "Training epochs on cpu:  24%|██▍       | 24/100 [02:31<06:52,  5.42s/epoch, loss=0.425, prev_loss=0.455]WARNING:pykeen.utils:Using automatic batch size on device.type='cpu' can cause unexplained out-of-memory crashes. Therefore, we use a conservative small batch_size=32. Performance may be improved by explicitly specifying a larger batch size.\n",
      "WARNING:torch_max_mem.api:Encountered tensors on device_types={'cpu'} while only ['cuda'] are considered safe for automatic memory utilization maximization. This may lead to undocumented crashes (but can be safe, too).\n",
      "INFO:pykeen.evaluation.evaluator:Evaluation took 18.37s seconds\n",
      "Training epochs on cpu:  29%|██▉       | 29/100 [03:06<06:06,  5.16s/epoch, loss=0.366, prev_loss=0.371]WARNING:pykeen.utils:Using automatic batch size on device.type='cpu' can cause unexplained out-of-memory crashes. Therefore, we use a conservative small batch_size=32. Performance may be improved by explicitly specifying a larger batch size.\n",
      "WARNING:torch_max_mem.api:Encountered tensors on device_types={'cpu'} while only ['cuda'] are considered safe for automatic memory utilization maximization. This may lead to undocumented crashes (but can be safe, too).\n",
      "INFO:pykeen.evaluation.evaluator:Evaluation took 10.81s seconds\n",
      "INFO:pykeen.stoppers.early_stopping:New best result at epoch 30: 0.16722129783693843. Saved model weights to /Users/rogerbaigess/.data/pykeen/checkpoints/best-model-weights-79d53da0-5767-4045-a8a0-f419d4a24b94.pt\n",
      "INFO:pykeen.training.training_loop:=> Saved checkpoint after having finished epoch 30.\n",
      "Training epochs on cpu:  34%|███▍      | 34/100 [03:33<04:41,  4.27s/epoch, loss=0.35, prev_loss=0.351] WARNING:pykeen.utils:Using automatic batch size on device.type='cpu' can cause unexplained out-of-memory crashes. Therefore, we use a conservative small batch_size=32. Performance may be improved by explicitly specifying a larger batch size.\n",
      "WARNING:torch_max_mem.api:Encountered tensors on device_types={'cpu'} while only ['cuda'] are considered safe for automatic memory utilization maximization. This may lead to undocumented crashes (but can be safe, too).\n",
      "INFO:pykeen.evaluation.evaluator:Evaluation took 11.19s seconds\n",
      "Training epochs on cpu:  39%|███▉      | 39/100 [04:06<04:57,  4.88s/epoch, loss=0.344, prev_loss=0.344]WARNING:pykeen.utils:Using automatic batch size on device.type='cpu' can cause unexplained out-of-memory crashes. Therefore, we use a conservative small batch_size=32. Performance may be improved by explicitly specifying a larger batch size.\n",
      "WARNING:torch_max_mem.api:Encountered tensors on device_types={'cpu'} while only ['cuda'] are considered safe for automatic memory utilization maximization. This may lead to undocumented crashes (but can be safe, too).\n",
      "INFO:pykeen.evaluation.evaluator:Evaluation took 31.99s seconds\n",
      "Training epochs on cpu:  44%|████▍     | 44/100 [05:13<08:11,  8.78s/epoch, loss=0.341, prev_loss=0.34] WARNING:pykeen.utils:Using automatic batch size on device.type='cpu' can cause unexplained out-of-memory crashes. Therefore, we use a conservative small batch_size=32. Performance may be improved by explicitly specifying a larger batch size.\n",
      "WARNING:torch_max_mem.api:Encountered tensors on device_types={'cpu'} while only ['cuda'] are considered safe for automatic memory utilization maximization. This may lead to undocumented crashes (but can be safe, too).\n",
      "INFO:pykeen.evaluation.evaluator:Evaluation took 14.51s seconds\n",
      "INFO:pykeen.stoppers.early_stopping:Stopping early at epoch 45. The best result 0.16722129783693843 occurred at epoch 30.\n",
      "INFO:pykeen.stoppers.early_stopping:Re-loading weights from best epoch from /Users/rogerbaigess/.data/pykeen/checkpoints/best-model-weights-79d53da0-5767-4045-a8a0-f419d4a24b94.pt\n",
      "Training epochs on cpu:  44%|████▍     | 44/100 [05:27<06:57,  7.45s/epoch, loss=0.341, prev_loss=0.34]\n",
      "Evaluating on cpu:   0%|          | 0.00/7.81k [00:00<?, ?triple/s]WARNING:torch_max_mem.api:Encountered tensors on device_types={'cpu'} while only ['cuda'] are considered safe for automatic memory utilization maximization. This may lead to undocumented crashes (but can be safe, too).\n",
      "Evaluating on cpu: 100%|██████████| 7.81k/7.81k [00:20<00:00, 375triple/s]\n",
      "INFO:pykeen.evaluation.evaluator:Evaluation took 20.98s seconds\n"
     ]
    },
    {
     "name": "stdout",
     "output_type": "stream",
     "text": [
      "--- Pipeline for DistMult complete. ---\n"
     ]
    },
    {
     "name": "stderr",
     "output_type": "stream",
     "text": [
      "INFO:pykeen.triples.triples_factory:Stored TriplesFactory(num_entities=29332, num_relations=16, create_inverse_triples=True, num_triples=62500, path=\"/Users/rogerbaigess/Desktop/IA/3r/BDA/large-scale-data-engineering-ai/data/analysis/embeddings/kg_triples_for_pykeen.tsv\") to file:///Users/rogerbaigess/Desktop/IA/3r/BDA/large-scale-data-engineering-ai/data/analysis/embeddings/distmult_model/training_triples\n",
      "INFO:pykeen.pipeline.api:Saved to directory: /Users/rogerbaigess/Desktop/IA/3r/BDA/large-scale-data-engineering-ai/data/analysis/embeddings/distmult_model\n"
     ]
    }
   ],
   "source": [
    "# --- Train and Evaluate Selected Models ---\n",
    "\n",
    "results = {}\n",
    "\n",
    "# --- Train TransE ---\n",
    "transe_result = run_kge_pipeline(\n",
    "    training=training_set,\n",
    "    validation=validation_set,\n",
    "    testing=testing_set,\n",
    "    model_name='TransE',\n",
    "    embedding_dim=50, # Can start with smaller embeddings\n",
    "    epochs=100\n",
    ")\n",
    "results['TransE'] = transe_result\n",
    "transe_result.save_to_directory(OUTPUT_DIR / 'transe_model')\n",
    "\n",
    "\n",
    "# --- Train DistMult ---\n",
    "distmult_result = run_kge_pipeline(\n",
    "    training=training_set,\n",
    "    validation=validation_set,\n",
    "    testing=testing_set,\n",
    "    model_name='DistMult',\n",
    "    embedding_dim=50,\n",
    "    epochs=100\n",
    ")\n",
    "results['DistMult'] = distmult_result\n",
    "distmult_result.save_to_directory(OUTPUT_DIR / 'distmult_model')"
   ]
  },
  {
   "cell_type": "code",
   "execution_count": null,
   "id": "1e9b7a3c",
   "metadata": {},
   "outputs": [
    {
     "name": "stdout",
     "output_type": "stream",
     "text": [
      "--- Extracting Metrics from Model Results ---\n",
      "Successfully processed metrics for TransE.\n",
      "Successfully processed metrics for DistMult.\n",
      "\n",
      "\n",
      "==================== Final Model Comparison ====================\n",
      "Metrics evaluated on the testing set (realistic, both sides):\n",
      "Metric    hits_at_1  hits_at_3  hits_at_5  hits_at_10\n",
      "Model                                                \n",
      "DistMult     0.1610     0.2019     0.2363      0.2649\n",
      "TransE       0.0010     0.0570     0.0737      0.0964\n",
      "\n",
      "Comparison plot saved to: ../../data/analysis/embeddings/model_comparison.png\n"
     ]
    },
    {
     "data": {
      "image/png": "[encoded data removed]",
      "text/plain": [
       "<Figure size 1400x800 with 1 Axes>"
      ]
     },
     "metadata": {},
     "output_type": "display_data"
    }
   ],
   "source": [
    "# --- Compare Model Performance ---\n",
    "\n",
    "# A list to hold the processed metrics for each model\n",
    "all_metrics_data = []\n",
    "\n",
    "# --- Step 1: Extract Metrics by Filtering the DataFrame Correctly ---\n",
    "print(\"--- Extracting Metrics from Model Results ---\")\n",
    "for model_name, result in results.items():\n",
    "    try:\n",
    "        # Convert the full result to a DataFrame\n",
    "        metrics_df = result.metric_results.to_df()\n",
    "        \n",
    "        # --- Corrected Filtering Logic ---\n",
    "        # We now use the column names we discovered from the previous debug:\n",
    "        # 'Side', 'Rank_type', 'Metric', 'Value'\n",
    "        \n",
    "        # Filter for the final test set results. Since there is no 'Dataset' column,\n",
    "        # we assume the results object from the pipeline refers to the 'testing' set evaluation.\n",
    "        test_metrics = metrics_df[\n",
    "            (metrics_df['Side'] == 'both') &\n",
    "            (metrics_df['Rank_type'] == 'realistic')\n",
    "        ].copy()\n",
    "        \n",
    "        # Add the model name for grouping later\n",
    "        test_metrics['Model'] = model_name\n",
    "        \n",
    "        all_metrics_data.append(test_metrics)\n",
    "        print(f\"Successfully processed metrics for {model_name}.\")\n",
    "        \n",
    "    except KeyError as e:\n",
    "        # This is a safety net in case the columns change again\n",
    "        print(f\"\\n!!! ERROR processing metrics for {model_name}. A required column is missing: {e}\")\n",
    "        print(\"Available columns were:\", list(metrics_df.columns))\n",
    "        continue\n",
    "    except Exception as e:\n",
    "        print(f\"\\n!!! An unexpected error occurred while processing metrics for {model_name}: {e}\")\n",
    "        continue\n",
    "\n",
    "# --- Step 2: Consolidate and Plot ---\n",
    "if all_metrics_data:\n",
    "    # Concatenate all results into a single DataFrame\n",
    "    results_df = pd.concat(all_metrics_data, ignore_index=True)\n",
    "    \n",
    "    # Select and reorder columns for display\n",
    "    display_cols = ['Model', 'Metric', 'Value']\n",
    "    results_df_display = results_df[display_cols]\n",
    "    \n",
    "    # Pivot the table for better comparison\n",
    "    pivot_df = results_df_display.pivot_table(\n",
    "        index='Model', \n",
    "        columns='Metric', \n",
    "        values='Value',\n",
    "        aggfunc='first'\n",
    "    )\n",
    "    \n",
    "    # Define the metrics we want to see in the final table and plot\n",
    "    final_metrics_order = [\n",
    "        'mean_reciprocal_rank', \n",
    "        'hits_at_1', \n",
    "        'hits_at_3', \n",
    "        'hits_at_5', \n",
    "        'hits_at_10'\n",
    "    ]\n",
    "    # Filter for only those metrics that actually exist in our results\n",
    "    final_metrics_existing = [m for m in final_metrics_order if m in pivot_df.columns]\n",
    "    \n",
    "    print(\"\\n\\n\" + \"=\"*20 + \" Final Model Comparison \" + \"=\"*20)\n",
    "    print(\"Metrics evaluated on the testing set (realistic, both sides):\")\n",
    "    \n",
    "    # Format the output for readability\n",
    "    print(pivot_df[final_metrics_existing].to_string(float_format=\"%.4f\"))\n",
    "\n",
    "    # --- Plotting the results ---\n",
    "    plot_df = pivot_df[final_metrics_existing].reset_index()\n",
    "    melted_df = plot_df.melt(id_vars='Model', var_name='Metric', value_name='Score')\n",
    "    \n",
    "    plt.figure(figsize=(14, 8))\n",
    "    sns.barplot(x='Metric', y='Score', hue='Model', data=melted_df, order=final_metrics_order)\n",
    "    plt.title('KGE Model Performance Comparison (Link Prediction)', fontsize=16)\n",
    "    plt.ylabel('Score')\n",
    "    plt.xlabel('Evaluation Metric')\n",
    "    plt.grid(axis='y', linestyle='--', alpha=0.7)\n",
    "    plt.tight_layout()\n",
    "    plot_path = OUTPUT_DIR / 'model_comparison.png'\n",
    "    plt.savefig(plot_path)\n",
    "    print(f\"\\nComparison plot saved to: {plot_path}\")\n",
    "    plt.show()\n",
    "\n",
    "else:\n",
    "    print(\"No model results to display. Check for errors during metric processing.\")"
   ]
  }
 ],
 "metadata": {
  "kernelspec": {
   "display_name": ".venv",
   "language": "python",
   "name": "python3"
  },
  "language_info": {
   "codemirror_mode": {
    "name": "ipython",
    "version": 3
   },
   "file_extension": ".py",
   "mimetype": "text/x-python",
   "name": "python",
   "nbconvert_exporter": "python",
   "pygments_lexer": "ipython3",
   "version": "3.10.6"
  }
 },
 "nbformat": 4,
 "nbformat_minor": 5
}
