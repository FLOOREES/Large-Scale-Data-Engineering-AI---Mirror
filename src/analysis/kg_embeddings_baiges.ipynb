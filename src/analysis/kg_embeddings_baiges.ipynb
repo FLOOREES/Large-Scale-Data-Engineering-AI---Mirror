{
 "cells": [
  {
   "cell_type": "code",
   "execution_count": 1,
   "id": "eb93a2d9",
   "metadata": {},
   "outputs": [
    {
     "name": "stderr",
     "output_type": "stream",
     "text": [
      "/Users/rogerbaigess/Desktop/IA/3r/BDA/large-scale-data-engineering-ai/.venv/lib/python3.10/site-packages/tqdm/auto.py:21: TqdmWarning: IProgress not found. Please update jupyter and ipywidgets. See https://ipywidgets.readthedocs.io/en/stable/user_install.html\n",
      "  from .autonotebook import tqdm as notebook_tqdm\n"
     ]
    },
    {
     "name": "stdout",
     "output_type": "stream",
     "text": [
      "PyKEEN version: 1.11.1\n",
      "PyTorch version: 2.7.1\n"
     ]
    }
   ],
   "source": [
    "# --- Imports and Setup ---\n",
    "\n",
    "import pandas as pd\n",
    "import torch\n",
    "from pathlib import Path\n",
    "import matplotlib.pyplot as plt\n",
    "import seaborn as sns\n",
    "\n",
    "# PyKEEN imports\n",
    "from pykeen.pipeline import pipeline\n",
    "from pykeen.triples import TriplesFactory\n",
    "import pykeen.version\n",
    "\n",
    "# RDFLib for initial graph processing\n",
    "import rdflib\n",
    "from rdflib import Graph\n",
    "\n",
    "print(f\"PyKEEN version: {pykeen.version.get_version()}\")\n",
    "print(f\"PyTorch version: {torch.__version__}\")\n",
    "\n",
    "# --- Configuration ---\n",
    "KG_PATH = \"../../data/exploitation/knowledge_graph.ttl\"\n",
    "OUTPUT_DIR = Path(\"../../data/analysis/embeddings\")\n",
    "OUTPUT_DIR.mkdir(parents=True, exist_ok=True)\n",
    "TRIPLES_PATH = OUTPUT_DIR / \"kg_triples_for_pykeen.tsv\""
   ]
  },
  {
   "cell_type": "code",
   "execution_count": 2,
   "id": "97a1905d",
   "metadata": {},
   "outputs": [
    {
     "name": "stdout",
     "output_type": "stream",
     "text": [
      "Loading full Knowledge Graph from: ../../data/exploitation/knowledge_graph.ttl\n",
      "Graph loaded successfully with 180513 triples.\n",
      "\n",
      "Filtering graph to exclude triples with literal objects...\n",
      "Filtered down to 78126 entity-relation-entity triples.\n",
      "Saving filtered triples to: ../../data/analysis/embeddings/kg_triples_for_pykeen.tsv\n",
      "Data preparation for PyKEEN complete.\n"
     ]
    }
   ],
   "source": [
    "# --- Load and Filter Knowledge Graph for KGE Models ---\n",
    "\n",
    "print(f\"Loading full Knowledge Graph from: {KG_PATH}\")\n",
    "g = Graph()\n",
    "try:\n",
    "    g.parse(KG_PATH, format=\"turtle\")\n",
    "    print(f\"Graph loaded successfully with {len(g)} triples.\")\n",
    "except FileNotFoundError:\n",
    "    print(f\"ERROR: Knowledge Graph file not found at {KG_PATH}. Please run the exploitation zone script first.\")\n",
    "    raise\n",
    "\n",
    "# --- Data Preparation for PyKEEN ---\n",
    "# KGE models like TransE and DistMult work with entity-relation-entity triples.\n",
    "# We will filter the graph to keep ONLY these structural triples.\n",
    "# We are completely ignoring triples with literal objects for this training phase.\n",
    "\n",
    "print(\"\\nFiltering graph to exclude triples with literal objects...\")\n",
    "entity_triples = []\n",
    "for s, p, o in g:\n",
    "    # The condition is simple: the subject (s) and object (o) must be URIs (entities).\n",
    "    # The predicate (p) is always a URI.\n",
    "    if isinstance(s, rdflib.URIRef) and isinstance(o, rdflib.URIRef):\n",
    "        entity_triples.append((str(s), str(p), str(o)))\n",
    "\n",
    "print(f\"Filtered down to {len(entity_triples)} entity-relation-entity triples.\")\n",
    "\n",
    "# Save the filtered triples to a TSV file for PyKEEN\n",
    "print(f\"Saving filtered triples to: {TRIPLES_PATH}\")\n",
    "with open(TRIPLES_PATH, \"w\") as f:\n",
    "    # Add a header for clarity, though PyKEEN doesn't strictly need it\n",
    "    # f.write(\"head\\trelation\\ttail\\n\") \n",
    "    for s, p, o in entity_triples:\n",
    "        f.write(f\"{s}\\t{p}\\t{o}\\n\")\n",
    "\n",
    "print(\"Data preparation for PyKEEN complete.\")"
   ]
  },
  {
   "cell_type": "code",
   "execution_count": null,
   "id": "9178d373",
   "metadata": {},
   "outputs": [
    {
     "name": "stdout",
     "output_type": "stream",
     "text": [
      "Dataset split successfully:\n",
      "  Training triples:   78047\n",
      "  Validation triples: 39\n",
      "  Testing triples:    40\n",
      "  Total entities:     29332\n",
      "  Total relations:    16\n"
     ]
    }
   ],
   "source": [
    "# --- Create and Split PyKEEN Dataset ---\n",
    "\n",
    "# Create a TriplesFactory from our TSV file\n",
    "tf = TriplesFactory.from_path(TRIPLES_PATH, create_inverse_triples=True) # Adding inverse triples can help some models\n",
    "\n",
    "# Split the data into training, validation, and testing sets\n",
    "training_set, validation_set, testing_set = tf.split([0.8, 0.1, 0.1], random_state=42)\n",
    "\n",
    "print(\"Dataset split successfully:\")\n",
    "print(f\"  Training triples:   {training_set.num_triples}\")\n",
    "print(f\"  Validation triples: {validation_set.num_triples}\")\n",
    "print(f\"  Testing triples:    {testing_set.num_triples}\")\n",
    "print(f\"  Total entities:     {tf.num_entities}\")\n",
    "print(f\"  Total relations:    {tf.num_relations}\")"
   ]
  },
  {
   "cell_type": "code",
   "execution_count": 3,
   "id": "5c82f5ba",
   "metadata": {},
   "outputs": [],
   "source": [
    "# --- Helper Function for Training and Evaluation ---\n",
    "\n",
    "def run_kge_pipeline(training, validation, testing, model_name, embedding_dim=100, epochs=100):\n",
    "    \"\"\"\n",
    "    Runs the PyKEEN pipeline for a given model and returns the results.\n",
    "    \"\"\"\n",
    "    print(f\"\\n{'='*20} Starting Pipeline for {model_name} {'='*20}\")\n",
    "    \n",
    "    result = pipeline(\n",
    "        training=training,\n",
    "        validation=validation,\n",
    "        testing=testing,\n",
    "        model=model_name,\n",
    "        model_kwargs=dict(embedding_dim=embedding_dim),\n",
    "        training_kwargs=dict(\n",
    "            num_epochs=epochs,\n",
    "            batch_size=256,\n",
    "            use_tqdm_batch=False\n",
    "        ),\n",
    "        negative_sampler='basic',\n",
    "        evaluation_kwargs=dict(batch_size=256),\n",
    "        stopper='early',\n",
    "        stopper_kwargs=dict(frequency=5, patience=3, metric='hits@10'),\n",
    "        random_seed=42,\n",
    "        device='cpu',\n",
    "    )\n",
    "    \n",
    "    print(f\"--- Pipeline for {model_name} complete. ---\")\n",
    "    return result"
   ]
  },
  {
   "cell_type": "code",
   "execution_count": null,
   "id": "30b62f72",
   "metadata": {},
   "outputs": [
    {
     "name": "stdout",
     "output_type": "stream",
     "text": [
      "\n",
      "==================== Starting Pipeline for TransE ====================\n"
     ]
    },
    {
     "name": "stderr",
     "output_type": "stream",
     "text": [
      "INFO:pykeen.triples.triples_factory:Creating inverse triples.\n",
      "/Users/rogerbaigess/Desktop/IA/3r/BDA/large-scale-data-engineering-ai/.venv/lib/python3.10/site-packages/torch/utils/data/dataloader.py:683: UserWarning: 'pin_memory' argument is set as true but not supported on MPS now, then device pinned memory won't be used.\n",
      "  warnings.warn(warn_msg)\n",
      "Training epochs on cpu:   0%|          | 0/3 [00:00<?, ?epoch/s]INFO:pykeen.triples.triples_factory:Creating inverse triples.\n",
      "Training epochs on cpu: 100%|██████████| 3/3 [00:02<00:00,  1.11epoch/s, loss=0.76, prev_loss=0.842]\n",
      "Evaluating on cpu:   0%|          | 0.00/40.0 [00:00<?, ?triple/s]WARNING:torch_max_mem.api:Encountered tensors on device_types={'cpu'} while only ['cuda'] are considered safe for automatic memory utilization maximization. This may lead to undocumented crashes (but can be safe, too).\n",
      "Evaluating on cpu: 100%|██████████| 40.0/40.0 [00:00<00:00, 164triple/s]\n",
      "INFO:pykeen.evaluation.evaluator:Evaluation took 0.37s seconds\n",
      "INFO:pykeen.triples.triples_factory:Stored TriplesFactory(num_entities=29332, num_relations=16, create_inverse_triples=True, num_triples=78047, path=\"/Users/rogerbaigess/Desktop/IA/3r/BDA/large-scale-data-engineering-ai/data/analysis/embeddings/kg_triples_for_pykeen.tsv\") to file:///Users/rogerbaigess/Desktop/IA/3r/BDA/large-scale-data-engineering-ai/data/analysis/embeddings/TransE_dim8_model/training_triples\n"
     ]
    },
    {
     "name": "stdout",
     "output_type": "stream",
     "text": [
      "--- Pipeline for TransE complete. ---\n"
     ]
    },
    {
     "name": "stderr",
     "output_type": "stream",
     "text": [
      "INFO:pykeen.pipeline.api:Saved to directory: /Users/rogerbaigess/Desktop/IA/3r/BDA/large-scale-data-engineering-ai/data/analysis/embeddings/TransE_dim8_model\n",
      "INFO:pykeen.pipeline.api:Using device: cpu\n",
      "INFO:pykeen.nn.representation:Inferred unique=False for Embedding()\n",
      "INFO:pykeen.nn.representation:Inferred unique=False for Embedding()\n",
      "INFO:pykeen.stoppers.early_stopping:Inferred checkpoint path for best model weights: /Users/rogerbaigess/.data/pykeen/checkpoints/best-model-weights-a6661304-f4be-446f-a4d6-429e46dfbe13.pt\n",
      "INFO:pykeen.triples.triples_factory:Creating inverse triples.\n",
      "/Users/rogerbaigess/Desktop/IA/3r/BDA/large-scale-data-engineering-ai/.venv/lib/python3.10/site-packages/torch/utils/data/dataloader.py:683: UserWarning: 'pin_memory' argument is set as true but not supported on MPS now, then device pinned memory won't be used.\n",
      "  warnings.warn(warn_msg)\n"
     ]
    },
    {
     "name": "stdout",
     "output_type": "stream",
     "text": [
      "\n",
      "==================== Starting Pipeline for TransE ====================\n"
     ]
    },
    {
     "name": "stderr",
     "output_type": "stream",
     "text": [
      "Training epochs on cpu:   0%|          | 0/3 [00:00<?, ?epoch/s]INFO:pykeen.triples.triples_factory:Creating inverse triples.\n",
      "Training epochs on cpu: 100%|██████████| 3/3 [00:04<00:00,  1.54s/epoch, loss=0.635, prev_loss=0.735]\n",
      "Evaluating on cpu:   0%|          | 0.00/40.0 [00:00<?, ?triple/s]WARNING:torch_max_mem.api:Encountered tensors on device_types={'cpu'} while only ['cuda'] are considered safe for automatic memory utilization maximization. This may lead to undocumented crashes (but can be safe, too).\n",
      "Evaluating on cpu: 100%|██████████| 40.0/40.0 [00:00<00:00, 114triple/s]\n",
      "INFO:pykeen.evaluation.evaluator:Evaluation took 0.48s seconds\n"
     ]
    },
    {
     "name": "stdout",
     "output_type": "stream",
     "text": [
      "--- Pipeline for TransE complete. ---\n"
     ]
    },
    {
     "name": "stderr",
     "output_type": "stream",
     "text": [
      "INFO:pykeen.triples.triples_factory:Stored TriplesFactory(num_entities=29332, num_relations=16, create_inverse_triples=True, num_triples=78047, path=\"/Users/rogerbaigess/Desktop/IA/3r/BDA/large-scale-data-engineering-ai/data/analysis/embeddings/kg_triples_for_pykeen.tsv\") to file:///Users/rogerbaigess/Desktop/IA/3r/BDA/large-scale-data-engineering-ai/data/analysis/embeddings/TransE_dim16_model/training_triples\n",
      "INFO:pykeen.pipeline.api:Saved to directory: /Users/rogerbaigess/Desktop/IA/3r/BDA/large-scale-data-engineering-ai/data/analysis/embeddings/TransE_dim16_model\n",
      "INFO:pykeen.pipeline.api:Using device: cpu\n",
      "INFO:pykeen.nn.representation:Inferred unique=False for Embedding()\n",
      "INFO:pykeen.nn.representation:Inferred unique=False for Embedding(\n",
      "  (regularizer): LpRegularizer()\n",
      ")\n",
      "INFO:pykeen.stoppers.early_stopping:Inferred checkpoint path for best model weights: /Users/rogerbaigess/.data/pykeen/checkpoints/best-model-weights-c26056cf-69d7-430f-861c-13e5f7e002c3.pt\n",
      "INFO:pykeen.triples.triples_factory:Creating inverse triples.\n"
     ]
    },
    {
     "name": "stdout",
     "output_type": "stream",
     "text": [
      "\n",
      "==================== Starting Pipeline for DistMult ====================\n"
     ]
    },
    {
     "name": "stderr",
     "output_type": "stream",
     "text": [
      "Training epochs on cpu:   0%|          | 0/3 [00:00<?, ?epoch/s]INFO:pykeen.triples.triples_factory:Creating inverse triples.\n",
      "Training epochs on cpu: 100%|██████████| 3/3 [00:03<00:00,  1.15s/epoch, loss=1, prev_loss=1]     \n",
      "Evaluating on cpu:   0%|          | 0.00/40.0 [00:00<?, ?triple/s]WARNING:torch_max_mem.api:Encountered tensors on device_types={'cpu'} while only ['cuda'] are considered safe for automatic memory utilization maximization. This may lead to undocumented crashes (but can be safe, too).\n",
      "Evaluating on cpu: 100%|██████████| 40.0/40.0 [00:00<00:00, 547triple/s]\n",
      "INFO:pykeen.evaluation.evaluator:Evaluation took 0.19s seconds\n",
      "INFO:pykeen.triples.triples_factory:Stored TriplesFactory(num_entities=29332, num_relations=16, create_inverse_triples=True, num_triples=78047, path=\"/Users/rogerbaigess/Desktop/IA/3r/BDA/large-scale-data-engineering-ai/data/analysis/embeddings/kg_triples_for_pykeen.tsv\") to file:///Users/rogerbaigess/Desktop/IA/3r/BDA/large-scale-data-engineering-ai/data/analysis/embeddings/DistMult_dim8_model/training_triples\n"
     ]
    },
    {
     "name": "stdout",
     "output_type": "stream",
     "text": [
      "--- Pipeline for DistMult complete. ---\n"
     ]
    },
    {
     "name": "stderr",
     "output_type": "stream",
     "text": [
      "INFO:pykeen.pipeline.api:Saved to directory: /Users/rogerbaigess/Desktop/IA/3r/BDA/large-scale-data-engineering-ai/data/analysis/embeddings/DistMult_dim8_model\n",
      "INFO:pykeen.pipeline.api:Using device: cpu\n",
      "INFO:pykeen.nn.representation:Inferred unique=False for Embedding()\n",
      "INFO:pykeen.nn.representation:Inferred unique=False for Embedding(\n",
      "  (regularizer): LpRegularizer()\n",
      ")\n",
      "INFO:pykeen.stoppers.early_stopping:Inferred checkpoint path for best model weights: /Users/rogerbaigess/.data/pykeen/checkpoints/best-model-weights-aee16cd6-c3c5-488a-bf66-9c766df11822.pt\n",
      "INFO:pykeen.triples.triples_factory:Creating inverse triples.\n"
     ]
    },
    {
     "name": "stdout",
     "output_type": "stream",
     "text": [
      "\n",
      "==================== Starting Pipeline for DistMult ====================\n"
     ]
    },
    {
     "name": "stderr",
     "output_type": "stream",
     "text": [
      "Training epochs on cpu:   0%|          | 0/3 [00:00<?, ?epoch/s]INFO:pykeen.triples.triples_factory:Creating inverse triples.\n",
      "Training epochs on cpu: 100%|██████████| 3/3 [00:05<00:00,  1.74s/epoch, loss=1, prev_loss=1]     \n",
      "Evaluating on cpu:   0%|          | 0.00/40.0 [00:00<?, ?triple/s]WARNING:torch_max_mem.api:Encountered tensors on device_types={'cpu'} while only ['cuda'] are considered safe for automatic memory utilization maximization. This may lead to undocumented crashes (but can be safe, too).\n",
      "Evaluating on cpu: 100%|██████████| 40.0/40.0 [00:00<00:00, 396triple/s]\n",
      "INFO:pykeen.evaluation.evaluator:Evaluation took 0.23s seconds\n"
     ]
    },
    {
     "name": "stdout",
     "output_type": "stream",
     "text": [
      "--- Pipeline for DistMult complete. ---\n"
     ]
    },
    {
     "name": "stderr",
     "output_type": "stream",
     "text": [
      "INFO:pykeen.triples.triples_factory:Stored TriplesFactory(num_entities=29332, num_relations=16, create_inverse_triples=True, num_triples=78047, path=\"/Users/rogerbaigess/Desktop/IA/3r/BDA/large-scale-data-engineering-ai/data/analysis/embeddings/kg_triples_for_pykeen.tsv\") to file:///Users/rogerbaigess/Desktop/IA/3r/BDA/large-scale-data-engineering-ai/data/analysis/embeddings/DistMult_dim16_model/training_triples\n",
      "INFO:pykeen.pipeline.api:Saved to directory: /Users/rogerbaigess/Desktop/IA/3r/BDA/large-scale-data-engineering-ai/data/analysis/embeddings/DistMult_dim16_model\n",
      "INFO:pykeen.pipeline.api:Using device: cpu\n",
      "INFO:pykeen.nn.representation:Inferred unique=False for Embedding(\n",
      "  (regularizer): LpRegularizer()\n",
      ")\n",
      "INFO:pykeen.nn.representation:Inferred unique=False for Embedding(\n",
      "  (regularizer): LpRegularizer()\n",
      ")\n",
      "INFO:pykeen.stoppers.early_stopping:Inferred checkpoint path for best model weights: /Users/rogerbaigess/.data/pykeen/checkpoints/best-model-weights-dac01385-7c45-47dd-8b8b-0d4e4071f9a8.pt\n",
      "INFO:pykeen.triples.triples_factory:Creating inverse triples.\n"
     ]
    },
    {
     "name": "stdout",
     "output_type": "stream",
     "text": [
      "\n",
      "==================== Starting Pipeline for ComplEx ====================\n"
     ]
    },
    {
     "name": "stderr",
     "output_type": "stream",
     "text": [
      "Training epochs on cpu:   0%|          | 0/3 [00:00<?, ?epoch/s]INFO:pykeen.triples.triples_factory:Creating inverse triples.\n",
      "Training epochs on cpu: 100%|██████████| 3/3 [00:05<00:00,  1.86s/epoch, loss=1.49, prev_loss=2.04]\n",
      "Evaluating on cpu:   0%|          | 0.00/40.0 [00:00<?, ?triple/s]WARNING:torch_max_mem.api:Encountered tensors on device_types={'cpu'} while only ['cuda'] are considered safe for automatic memory utilization maximization. This may lead to undocumented crashes (but can be safe, too).\n",
      "Evaluating on cpu: 100%|██████████| 40.0/40.0 [00:00<00:00, 346triple/s]\n",
      "INFO:pykeen.evaluation.evaluator:Evaluation took 0.31s seconds\n"
     ]
    },
    {
     "name": "stdout",
     "output_type": "stream",
     "text": [
      "--- Pipeline for ComplEx complete. ---\n"
     ]
    },
    {
     "name": "stderr",
     "output_type": "stream",
     "text": [
      "INFO:pykeen.triples.triples_factory:Stored TriplesFactory(num_entities=29332, num_relations=16, create_inverse_triples=True, num_triples=78047, path=\"/Users/rogerbaigess/Desktop/IA/3r/BDA/large-scale-data-engineering-ai/data/analysis/embeddings/kg_triples_for_pykeen.tsv\") to file:///Users/rogerbaigess/Desktop/IA/3r/BDA/large-scale-data-engineering-ai/data/analysis/embeddings/ComplEx_dim8_model/training_triples\n",
      "INFO:pykeen.pipeline.api:Saved to directory: /Users/rogerbaigess/Desktop/IA/3r/BDA/large-scale-data-engineering-ai/data/analysis/embeddings/ComplEx_dim8_model\n",
      "INFO:pykeen.pipeline.api:Using device: cpu\n",
      "INFO:pykeen.nn.representation:Inferred unique=False for Embedding(\n",
      "  (regularizer): LpRegularizer()\n",
      ")\n",
      "INFO:pykeen.nn.representation:Inferred unique=False for Embedding(\n",
      "  (regularizer): LpRegularizer()\n",
      ")\n",
      "INFO:pykeen.stoppers.early_stopping:Inferred checkpoint path for best model weights: /Users/rogerbaigess/.data/pykeen/checkpoints/best-model-weights-54487cea-da2d-42af-8fa7-10d14b5dde5a.pt\n",
      "INFO:pykeen.triples.triples_factory:Creating inverse triples.\n"
     ]
    },
    {
     "name": "stdout",
     "output_type": "stream",
     "text": [
      "\n",
      "==================== Starting Pipeline for ComplEx ====================\n"
     ]
    },
    {
     "name": "stderr",
     "output_type": "stream",
     "text": [
      "Training epochs on cpu:   0%|          | 0/3 [00:00<?, ?epoch/s]INFO:pykeen.triples.triples_factory:Creating inverse triples.\n",
      "Training epochs on cpu: 100%|██████████| 3/3 [00:09<00:00,  3.08s/epoch, loss=2.21, prev_loss=3.09]\n",
      "Evaluating on cpu:   0%|          | 0.00/40.0 [00:00<?, ?triple/s]WARNING:torch_max_mem.api:Encountered tensors on device_types={'cpu'} while only ['cuda'] are considered safe for automatic memory utilization maximization. This may lead to undocumented crashes (but can be safe, too).\n",
      "Evaluating on cpu: 100%|██████████| 40.0/40.0 [00:00<00:00, 452triple/s]\n",
      "INFO:pykeen.evaluation.evaluator:Evaluation took 0.21s seconds\n"
     ]
    },
    {
     "name": "stdout",
     "output_type": "stream",
     "text": [
      "--- Pipeline for ComplEx complete. ---\n"
     ]
    },
    {
     "name": "stderr",
     "output_type": "stream",
     "text": [
      "INFO:pykeen.triples.triples_factory:Stored TriplesFactory(num_entities=29332, num_relations=16, create_inverse_triples=True, num_triples=78047, path=\"/Users/rogerbaigess/Desktop/IA/3r/BDA/large-scale-data-engineering-ai/data/analysis/embeddings/kg_triples_for_pykeen.tsv\") to file:///Users/rogerbaigess/Desktop/IA/3r/BDA/large-scale-data-engineering-ai/data/analysis/embeddings/ComplEx_dim16_model/training_triples\n",
      "INFO:pykeen.pipeline.api:Saved to directory: /Users/rogerbaigess/Desktop/IA/3r/BDA/large-scale-data-engineering-ai/data/analysis/embeddings/ComplEx_dim16_model\n",
      "INFO:pykeen.pipeline.api:Using device: cpu\n",
      "INFO:pykeen.nn.representation:Inferred unique=False for Embedding()\n",
      "INFO:pykeen.nn.representation:Inferred unique=False for Embedding()\n",
      "INFO:pykeen.stoppers.early_stopping:Inferred checkpoint path for best model weights: /Users/rogerbaigess/.data/pykeen/checkpoints/best-model-weights-be89f870-dc16-4f7e-bcac-9db78e01125c.pt\n",
      "INFO:pykeen.triples.triples_factory:Creating inverse triples.\n"
     ]
    },
    {
     "name": "stdout",
     "output_type": "stream",
     "text": [
      "\n",
      "==================== Starting Pipeline for RotatE ====================\n"
     ]
    },
    {
     "name": "stderr",
     "output_type": "stream",
     "text": [
      "Training epochs on cpu:   0%|          | 0/3 [00:00<?, ?epoch/s]INFO:pykeen.triples.triples_factory:Creating inverse triples.\n",
      "Training epochs on cpu: 100%|██████████| 3/3 [00:05<00:00,  1.70s/epoch, loss=0.721, prev_loss=0.772]\n",
      "Evaluating on cpu:   0%|          | 0.00/40.0 [00:00<?, ?triple/s]WARNING:torch_max_mem.api:Encountered tensors on device_types={'cpu'} while only ['cuda'] are considered safe for automatic memory utilization maximization. This may lead to undocumented crashes (but can be safe, too).\n",
      "Evaluating on cpu: 100%|██████████| 40.0/40.0 [00:00<00:00, 82.2triple/s]\n",
      "INFO:pykeen.evaluation.evaluator:Evaluation took 0.79s seconds\n"
     ]
    },
    {
     "name": "stdout",
     "output_type": "stream",
     "text": [
      "--- Pipeline for RotatE complete. ---\n"
     ]
    },
    {
     "name": "stderr",
     "output_type": "stream",
     "text": [
      "INFO:pykeen.triples.triples_factory:Stored TriplesFactory(num_entities=29332, num_relations=16, create_inverse_triples=True, num_triples=78047, path=\"/Users/rogerbaigess/Desktop/IA/3r/BDA/large-scale-data-engineering-ai/data/analysis/embeddings/kg_triples_for_pykeen.tsv\") to file:///Users/rogerbaigess/Desktop/IA/3r/BDA/large-scale-data-engineering-ai/data/analysis/embeddings/RotatE_dim8_model/training_triples\n",
      "INFO:pykeen.pipeline.api:Saved to directory: /Users/rogerbaigess/Desktop/IA/3r/BDA/large-scale-data-engineering-ai/data/analysis/embeddings/RotatE_dim8_model\n",
      "INFO:pykeen.pipeline.api:Using device: cpu\n",
      "INFO:pykeen.nn.representation:Inferred unique=False for Embedding()\n",
      "INFO:pykeen.nn.representation:Inferred unique=False for Embedding()\n",
      "INFO:pykeen.stoppers.early_stopping:Inferred checkpoint path for best model weights: /Users/rogerbaigess/.data/pykeen/checkpoints/best-model-weights-42a59872-cfe6-4ea4-ae4b-fbdeee6272ba.pt\n",
      "INFO:pykeen.triples.triples_factory:Creating inverse triples.\n"
     ]
    },
    {
     "name": "stdout",
     "output_type": "stream",
     "text": [
      "\n",
      "==================== Starting Pipeline for RotatE ====================\n"
     ]
    },
    {
     "name": "stderr",
     "output_type": "stream",
     "text": [
      "Training epochs on cpu:   0%|          | 0/3 [00:00<?, ?epoch/s]INFO:pykeen.triples.triples_factory:Creating inverse triples.\n",
      "Training epochs on cpu: 100%|██████████| 3/3 [00:09<00:00,  3.25s/epoch, loss=0.677, prev_loss=0.734]\n",
      "Evaluating on cpu:   0%|          | 0.00/40.0 [00:00<?, ?triple/s]WARNING:torch_max_mem.api:Encountered tensors on device_types={'cpu'} while only ['cuda'] are considered safe for automatic memory utilization maximization. This may lead to undocumented crashes (but can be safe, too).\n",
      "Evaluating on cpu: 100%|██████████| 40.0/40.0 [00:00<00:00, 92.9triple/s]\n",
      "INFO:pykeen.evaluation.evaluator:Evaluation took 0.56s seconds\n"
     ]
    },
    {
     "name": "stdout",
     "output_type": "stream",
     "text": [
      "--- Pipeline for RotatE complete. ---\n"
     ]
    },
    {
     "name": "stderr",
     "output_type": "stream",
     "text": [
      "INFO:pykeen.triples.triples_factory:Stored TriplesFactory(num_entities=29332, num_relations=16, create_inverse_triples=True, num_triples=78047, path=\"/Users/rogerbaigess/Desktop/IA/3r/BDA/large-scale-data-engineering-ai/data/analysis/embeddings/kg_triples_for_pykeen.tsv\") to file:///Users/rogerbaigess/Desktop/IA/3r/BDA/large-scale-data-engineering-ai/data/analysis/embeddings/RotatE_dim16_model/training_triples\n",
      "INFO:pykeen.pipeline.api:Saved to directory: /Users/rogerbaigess/Desktop/IA/3r/BDA/large-scale-data-engineering-ai/data/analysis/embeddings/RotatE_dim16_model\n",
      "INFO:pykeen.pipeline.api:Using device: cpu\n",
      "INFO:pykeen.nn.representation:Inferred unique=False for Embedding()\n",
      "INFO:pykeen.nn.representation:Inferred unique=False for Embedding()\n",
      "INFO:pykeen.nn.representation:Inferred unique=False for Embedding()\n",
      "INFO:pykeen.stoppers.early_stopping:Inferred checkpoint path for best model weights: /Users/rogerbaigess/.data/pykeen/checkpoints/best-model-weights-b7fb58a8-43fa-46ac-af2e-232483e357f0.pt\n",
      "INFO:pykeen.triples.triples_factory:Creating inverse triples.\n"
     ]
    },
    {
     "name": "stdout",
     "output_type": "stream",
     "text": [
      "\n",
      "==================== Starting Pipeline for TransH ====================\n"
     ]
    },
    {
     "name": "stderr",
     "output_type": "stream",
     "text": [
      "Training epochs on cpu:   0%|          | 0/3 [00:00<?, ?epoch/s]INFO:pykeen.triples.triples_factory:Creating inverse triples.\n",
      "Training epochs on cpu: 100%|██████████| 3/3 [00:05<00:00,  1.79s/epoch, loss=0.54, prev_loss=0.641] \n",
      "Evaluating on cpu:   0%|          | 0.00/40.0 [00:00<?, ?triple/s]WARNING:torch_max_mem.api:Encountered tensors on device_types={'cpu'} while only ['cuda'] are considered safe for automatic memory utilization maximization. This may lead to undocumented crashes (but can be safe, too).\n",
      "Evaluating on cpu: 100%|██████████| 40.0/40.0 [00:00<00:00, 395triple/s]\n",
      "INFO:pykeen.evaluation.evaluator:Evaluation took 0.27s seconds\n"
     ]
    },
    {
     "name": "stdout",
     "output_type": "stream",
     "text": [
      "--- Pipeline for TransH complete. ---\n"
     ]
    },
    {
     "name": "stderr",
     "output_type": "stream",
     "text": [
      "INFO:pykeen.triples.triples_factory:Stored TriplesFactory(num_entities=29332, num_relations=16, create_inverse_triples=True, num_triples=78047, path=\"/Users/rogerbaigess/Desktop/IA/3r/BDA/large-scale-data-engineering-ai/data/analysis/embeddings/kg_triples_for_pykeen.tsv\") to file:///Users/rogerbaigess/Desktop/IA/3r/BDA/large-scale-data-engineering-ai/data/analysis/embeddings/TransH_dim8_model/training_triples\n",
      "INFO:pykeen.pipeline.api:Saved to directory: /Users/rogerbaigess/Desktop/IA/3r/BDA/large-scale-data-engineering-ai/data/analysis/embeddings/TransH_dim8_model\n",
      "INFO:pykeen.pipeline.api:Using device: cpu\n",
      "INFO:pykeen.nn.representation:Inferred unique=False for Embedding()\n",
      "INFO:pykeen.nn.representation:Inferred unique=False for Embedding()\n",
      "INFO:pykeen.nn.representation:Inferred unique=False for Embedding()\n",
      "INFO:pykeen.stoppers.early_stopping:Inferred checkpoint path for best model weights: /Users/rogerbaigess/.data/pykeen/checkpoints/best-model-weights-18c8c135-965a-4673-b00d-baa6033a7e2f.pt\n",
      "INFO:pykeen.triples.triples_factory:Creating inverse triples.\n"
     ]
    },
    {
     "name": "stdout",
     "output_type": "stream",
     "text": [
      "\n",
      "==================== Starting Pipeline for TransH ====================\n"
     ]
    },
    {
     "name": "stderr",
     "output_type": "stream",
     "text": [
      "Training epochs on cpu:   0%|          | 0/3 [00:00<?, ?epoch/s]INFO:pykeen.triples.triples_factory:Creating inverse triples.\n",
      "Training epochs on cpu: 100%|██████████| 3/3 [00:07<00:00,  2.36s/epoch, loss=0.491, prev_loss=0.601]\n",
      "Evaluating on cpu:   0%|          | 0.00/40.0 [00:00<?, ?triple/s]WARNING:torch_max_mem.api:Encountered tensors on device_types={'cpu'} while only ['cuda'] are considered safe for automatic memory utilization maximization. This may lead to undocumented crashes (but can be safe, too).\n",
      "Evaluating on cpu: 100%|██████████| 40.0/40.0 [00:00<00:00, 251triple/s]\n",
      "INFO:pykeen.evaluation.evaluator:Evaluation took 0.28s seconds\n",
      "INFO:pykeen.triples.triples_factory:Stored TriplesFactory(num_entities=29332, num_relations=16, create_inverse_triples=True, num_triples=78047, path=\"/Users/rogerbaigess/Desktop/IA/3r/BDA/large-scale-data-engineering-ai/data/analysis/embeddings/kg_triples_for_pykeen.tsv\") to file:///Users/rogerbaigess/Desktop/IA/3r/BDA/large-scale-data-engineering-ai/data/analysis/embeddings/TransH_dim16_model/training_triples\n"
     ]
    },
    {
     "name": "stdout",
     "output_type": "stream",
     "text": [
      "--- Pipeline for TransH complete. ---\n"
     ]
    },
    {
     "name": "stderr",
     "output_type": "stream",
     "text": [
      "INFO:pykeen.pipeline.api:Saved to directory: /Users/rogerbaigess/Desktop/IA/3r/BDA/large-scale-data-engineering-ai/data/analysis/embeddings/TransH_dim16_model\n"
     ]
    },
    {
     "name": "stdout",
     "output_type": "stream",
     "text": [
      "\n",
      "All model training experiments are complete.\n"
     ]
    }
   ],
   "source": [
    "# --- Train and Evaluate an Extended Set of Models Across Different Embedding Dimensions ---\n",
    "\n",
    "# A dictionary to store all pipeline results\n",
    "results = {}\n",
    "\n",
    "# --- Configuration for the experiments ---\n",
    "EPOCHS = 300\n",
    "BATCH_SIZE = 512\n",
    "\n",
    "# Define the models and embedding dimensions to test\n",
    "experiments = {\n",
    "    'TransE': {'model_name': 'TransE', 'dims': [50, 100, 150]},\n",
    "    'TransR': {'model_name': 'TransR', 'dims': [100, 150, 200]},\n",
    "    'TransH': {'model_name': 'TransH', 'dims': [50, 100, 150]},\n",
    "    'DistMult': {'model_name': 'DistMult', 'dims': [100, 150, 200]},\n",
    "    'ComplEx': {'model_name': 'ComplEx', 'dims': [100, 150, 200]},\n",
    "    'RotatE': {'model_name': 'RotatE', 'dims': [100, 150, 200]},\n",
    "}\n",
    "\n",
    "# --- Run all experiments ---\n",
    "for model_key, config in experiments.items():\n",
    "    for dim in config['dims']:\n",
    "        # Create a unique key for each experiment run\n",
    "        experiment_key = f\"{model_key}_dim{dim}\"\n",
    "        \n",
    "        # We store results for each specific run\n",
    "        results[experiment_key] = run_kge_pipeline(\n",
    "            training=training_set,\n",
    "            validation=validation_set,\n",
    "            testing=testing_set,\n",
    "            model_name=config['model_name'],\n",
    "            embedding_dim=dim,\n",
    "            epochs=EPOCHS\n",
    "        )\n",
    "        # Save the model and results for this specific run\n",
    "        results[experiment_key].save_to_directory(OUTPUT_DIR / f'{experiment_key}_model')\n",
    "\n",
    "print(\"\\nAll model training experiments are complete.\")"
   ]
  },
  {
   "cell_type": "code",
   "execution_count": 5,
   "id": "1e9b7a3c",
   "metadata": {},
   "outputs": [
    {
     "name": "stdout",
     "output_type": "stream",
     "text": [
      "\n",
      "\n",
      "==================== Final Model Comparison ====================\n",
      "Metrics evaluated on the testing set (realistic, both sides):\n",
      "Metric                MRR  Hits@1  Hits@3  Hits@5  Hits@10\n",
      "Model    Dimension                                        \n",
      "ComplEx  8         0.0002  0.0000  0.0000  0.0000   0.0000\n",
      "         16        0.0001  0.0000  0.0000  0.0000   0.0000\n",
      "DistMult 8         0.0002  0.0000  0.0000  0.0000   0.0000\n",
      "         16        0.0002  0.0000  0.0000  0.0000   0.0000\n",
      "RotatE   8         0.0019  0.0000  0.0000  0.0000   0.0000\n",
      "         16        0.0071  0.0000  0.0125  0.0125   0.0125\n",
      "TransE   8         0.0024  0.0000  0.0000  0.0000   0.0000\n",
      "         16        0.0253  0.0000  0.0250  0.0625   0.1000\n",
      "TransH   8         0.3700  0.3500  0.3875  0.4000   0.4000\n",
      "         16        0.3951  0.3875  0.4000  0.4000   0.4000\n",
      "\n",
      "Comparison plot saved to: ../../data/analysis/embeddings/model_comparison_by_dimension.png\n"
     ]
    },
    {
     "data": {
      "image/png": "[encoded data removed]",
      "text/plain": [
       "<Figure size 1200x700 with 2 Axes>"
      ]
     },
     "metadata": {},
     "output_type": "display_data"
    }
   ],
   "source": [
    "# --- Compare Model Performance Across All Experiments ---\n",
    "\n",
    "# --- Step 1: Extract and Consolidate Metrics ---\n",
    "all_metrics_data = []\n",
    "for experiment_key, result in results.items():\n",
    "    try:\n",
    "        metrics_df = result.metric_results.to_df()\n",
    "        \n",
    "        # Filter for the final test set results using the correct columns\n",
    "        test_metrics = metrics_df[\n",
    "            (metrics_df['Side'] == 'both') &\n",
    "            (metrics_df['Rank_type'] == 'realistic')\n",
    "        ].copy()\n",
    "        \n",
    "        # Extract model name and dimension from the experiment key\n",
    "        model_name, dim_str = experiment_key.split('_dim')\n",
    "        test_metrics['Model'] = model_name\n",
    "        test_metrics['Dimension'] = int(dim_str)\n",
    "        \n",
    "        all_metrics_data.append(test_metrics)\n",
    "        \n",
    "    except Exception as e:\n",
    "        print(f\"Warning: Could not process metrics for {experiment_key}. Error: {e}\")\n",
    "\n",
    "if not all_metrics_data:\n",
    "    print(\"No model results to display. Check for errors during metric processing.\")\n",
    "else:\n",
    "    # --- Step 2: Prepare DataFrame for Plotting and Display ---\n",
    "    results_df = pd.concat(all_metrics_data, ignore_index=True)\n",
    "    \n",
    "    # Select only the metrics of interest\n",
    "    # KEY FIX: Use 'inverse_harmonic_mean_rank' as the MRR equivalent\n",
    "    final_metric_bases = {\n",
    "        'inverse_harmonic_mean_rank': 'MRR', # Rename for clarity\n",
    "        'hits_at_1': 'Hits@1',\n",
    "        'hits_at_3': 'Hits@3',\n",
    "        'hits_at_5': 'Hits@5',\n",
    "        'hits_at_10': 'Hits@10'\n",
    "    }\n",
    "    \n",
    "    # Filter the DataFrame to only include these metrics\n",
    "    results_filtered = results_df[results_df['Metric'].isin(final_metric_bases.keys())].copy()\n",
    "    # Apply the clean names\n",
    "    results_filtered['Metric'] = results_filtered['Metric'].map(final_metric_bases)\n",
    "    \n",
    "    # Pivot the table for display\n",
    "    pivot_df = results_filtered.pivot_table(\n",
    "        index=['Model', 'Dimension'], \n",
    "        columns='Metric', \n",
    "        values='Value'\n",
    "    )\n",
    "    \n",
    "    # Reorder columns for logical presentation\n",
    "    display_order = ['MRR', 'Hits@1', 'Hits@3', 'Hits@5', 'Hits@10']\n",
    "    pivot_df = pivot_df[display_order]\n",
    "\n",
    "    print(\"\\n\\n\" + \"=\"*20 + \" Final Model Comparison \" + \"=\"*20)\n",
    "    print(\"Metrics evaluated on the testing set (realistic, both sides):\")\n",
    "    print(pivot_df.to_string(float_format=\"%.4f\"))\n",
    "\n",
    "    # --- Step 3: Plotting with Subplots for Each Dimension ---\n",
    "    \n",
    "    # Get the unique dimensions that were tested\n",
    "    dimensions_to_plot = sorted(results_filtered['Dimension'].unique())\n",
    "    num_dims = len(dimensions_to_plot)\n",
    "    \n",
    "    # Create a figure with a subplot for each dimension\n",
    "    fig, axes = plt.subplots(nrows=1, ncols=num_dims, figsize=(6 * num_dims, 7), sharey=True)\n",
    "    \n",
    "    # Handle the case of a single dimension (axes will not be an array)\n",
    "    if num_dims == 1:\n",
    "        axes = [axes]\n",
    "\n",
    "    fig.suptitle('KGE Model Performance Comparison by Embedding Dimension', fontsize=20, y=1.02)\n",
    "    \n",
    "    for i, dim in enumerate(dimensions_to_plot):\n",
    "        ax = axes[i]\n",
    "        \n",
    "        # Filter data for the current dimension\n",
    "        data_for_plot = results_filtered[results_filtered['Dimension'] == dim]\n",
    "        \n",
    "        sns.barplot(x='Metric', y='Value', hue='Model', data=data_for_plot, order=display_order, ax=ax)\n",
    "        \n",
    "        ax.set_title(f'Embedding Dimension = {dim}', fontsize=14)\n",
    "        ax.set_xlabel('Evaluation Metric')\n",
    "        ax.grid(axis='y', linestyle='--', alpha=0.7)\n",
    "        ax.legend(title='Model')\n",
    "        \n",
    "        # Only show Y-axis label on the first plot\n",
    "        if i == 0:\n",
    "            ax.set_ylabel('Score')\n",
    "        else:\n",
    "            ax.set_ylabel('')\n",
    "\n",
    "    plt.tight_layout(rect=[0, 0, 1, 0.96]) # Adjust layout to make space for suptitle\n",
    "    plot_path = OUTPUT_DIR / 'model_comparison_by_dimension.png'\n",
    "    plt.savefig(plot_path)\n",
    "    print(f\"\\nComparison plot saved to: {plot_path}\")\n",
    "    plt.show()"
   ]
  }
 ],
 "metadata": {
  "kernelspec": {
   "display_name": ".venv",
   "language": "python",
   "name": "python3"
  },
  "language_info": {
   "codemirror_mode": {
    "name": "ipython",
    "version": 3
   },
   "file_extension": ".py",
   "mimetype": "text/x-python",
   "name": "python",
   "nbconvert_exporter": "python",
   "pygments_lexer": "ipython3",
   "version": "3.10.6"
  }
 },
 "nbformat": 4,
 "nbformat_minor": 5
}
