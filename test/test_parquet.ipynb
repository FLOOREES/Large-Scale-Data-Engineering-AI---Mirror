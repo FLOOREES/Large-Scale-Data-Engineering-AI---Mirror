{
 "cells": [
  {
   "cell_type": "code",
   "execution_count": 6,
   "metadata": {},
   "outputs": [],
   "source": [
    "import sys\n",
    "from pathlib import Path\n",
    "\n",
    "# Añadir la raíz del proyecto al sys.path\n",
    "project_root = Path().resolve().parent\n",
    "if str(project_root) not in sys.path:\n",
    "    sys.path.append(str(project_root))"
   ]
  },
  {
   "cell_type": "code",
   "execution_count": 7,
   "metadata": {},
   "outputs": [
    {
     "name": "stdout",
     "output_type": "stream",
     "text": [
      "Current directory: /home/cai/gia/bda/large-scale-data-engineering-ai/test\n"
     ]
    }
   ],
   "source": [
    "import os\n",
    "\n",
    "# print the content of the current directory\n",
    "print(\"Current directory:\", os.getcwd())"
   ]
  },
  {
   "cell_type": "code",
   "execution_count": null,
   "metadata": {},
   "outputs": [
    {
     "name": "stdout",
     "output_type": "stream",
     "text": [
      "root\n",
      " |-- YEAR_CODE: string (nullable = true)\n",
      " |-- YEAR_LABEL: string (nullable = true)\n",
      " |-- MUN_CODE: string (nullable = true)\n",
      " |-- MUN_LABEL: string (nullable = true)\n",
      " |-- CONCEPT_CODE: string (nullable = true)\n",
      " |-- CONCEPT_LABEL: string (nullable = true)\n",
      " |-- INDICATOR_CODE: string (nullable = true)\n",
      " |-- INDICATOR_LABEL: string (nullable = true)\n",
      " |-- VALUE: double (nullable = true)\n",
      "\n",
      "+---------+----------+--------+--------------------+------------+--------------------+----------------+--------------------+--------+\n",
      "|YEAR_CODE|YEAR_LABEL|MUN_CODE|           MUN_LABEL|CONCEPT_CODE|       CONCEPT_LABEL|  INDICATOR_CODE|     INDICATOR_LABEL|   VALUE|\n",
      "+---------+----------+--------+--------------------+------------+--------------------+----------------+--------------------+--------+\n",
      "|     2018|      2018|  082628|Sant Vicenç de Ca...|GROSS_INCOME|renda familiar di...|        VALUE_EK|    valor (milers €)|138008.0|\n",
      "|     2018|      2018|  082628|Sant Vicenç de Ca...|GROSS_INCOME|renda familiar di...|  PER_CAPITA_EUR|    per habitant (€)| 14842.0|\n",
      "|     2018|      2018|  082628|Sant Vicenç de Ca...|GROSS_INCOME|renda familiar di...|PER_CAPITA_INDEX|per habitant (índ...|    84.9|\n",
      "|     2018|      2018|  082649|Sant Vicenç de Mo...|GROSS_INCOME|renda familiar di...|        VALUE_EK|    valor (milers €)|142618.0|\n",
      "|     2018|      2018|  082649|Sant Vicenç de Mo...|GROSS_INCOME|renda familiar di...|  PER_CAPITA_EUR|    per habitant (€)| 22611.0|\n",
      "+---------+----------+--------+--------------------+------------+--------------------+----------------+--------------------+--------+\n",
      "only showing top 5 rows\n",
      "\n",
      "Número de filas: 16812\n",
      "Número de columnas: 9\n",
      "+---------+----------+--------+----------+------------+--------------------+----------------+--------------------+--------+\n",
      "|YEAR_CODE|YEAR_LABEL|MUN_CODE| MUN_LABEL|CONCEPT_CODE|       CONCEPT_LABEL|  INDICATOR_CODE|     INDICATOR_LABEL|   VALUE|\n",
      "+---------+----------+--------+----------+------------+--------------------+----------------+--------------------+--------+\n",
      "|     2019|      2019|  081206|Matadepera|GROSS_INCOME|renda familiar di...|        VALUE_EK|    valor (milers €)|265867.0|\n",
      "|     2019|      2019|  081206|Matadepera|GROSS_INCOME|renda familiar di...|  PER_CAPITA_EUR|    per habitant (€)| 28619.0|\n",
      "|     2019|      2019|  081206|Matadepera|GROSS_INCOME|renda familiar di...|PER_CAPITA_INDEX|per habitant (índ...|   155.0|\n",
      "|     2017|      2017|  081206|Matadepera|GROSS_INCOME|renda familiar di...|        VALUE_EK|    valor (milers €)|254676.0|\n",
      "|     2017|      2017|  081206|Matadepera|GROSS_INCOME|renda familiar di...|  PER_CAPITA_EUR|    per habitant (€)| 27634.0|\n",
      "+---------+----------+--------+----------+------------+--------------------+----------------+--------------------+--------+\n",
      "only showing top 5 rows\n",
      "\n",
      "Número de códigos de municipio distintos: 467\n",
      "Número de etiquetas de municipio distintas: 467\n"
     ]
    }
   ],
   "source": [
    "from pyspark.sql import SparkSession\n",
    "\n",
    "spark = SparkSession.builder.appName(\"Leer Parquet RFDBC\").getOrCreate()\n",
    "\n",
    "df = spark.read.parquet(\"../data/landing/rfdbc.parquet/\")\n",
    "\n",
    "# Mostrar el esquema del DataFrame\n",
    "df.printSchema()\n",
    "\n",
    "# Mostrar las primeras filas del DataFrame\n",
    "df.show(5)\n",
    "\n",
    "# Mostrar el número de filas y columnas\n",
    "num_rows = df.count()\n",
    "num_cols = len(df.columns)\n",
    "print(f\"Número de filas: {num_rows}\")\n",
    "print(f\"Número de columnas: {num_cols}\")\n",
    "\n",
    "# Mostrar los nombres de las columnas\n",
    "column_names = df.columns\n",
    "\n",
    "# Filter the ones that have MUN_CODEstarting with \"08019\"\n",
    "\n",
    "# filtered_df = df.filter(df[\"MUN_CODE\"].startswith(\"08019\"))\n",
    "filtered_df = df.filter(df[\"MUN_LABEL\"].startswith(\"Sabadell\"))\n",
    "\n",
    "# Show the filtered DataFrame\n",
    "filtered_df.show(5)\n",
    "\n",
    "# Count the disctinc values of the column \"MUN_CODE\"\n",
    "distinct_mun_codes = df.select(\"MUN_CODE\").distinct().count()\n",
    "print(f\"Número de códigos de municipio distintos: {distinct_mun_codes}\")\n",
    "\n",
    "# Count the disctinc values of the column \"MUN_LABEL\"\n",
    "distinct_mun_labels = df.select(\"MUN_LABEL\").distinct().count()\n",
    "print(f\"Número de etiquetas de municipio distintas: {distinct_mun_labels}\")\n"
   ]
  }
 ],
 "metadata": {
  "kernelspec": {
   "display_name": "Python 3",
   "language": "python",
   "name": "python3"
  },
  "language_info": {
   "codemirror_mode": {
    "name": "ipython",
    "version": 3
   },
   "file_extension": ".py",
   "mimetype": "text/x-python",
   "name": "python",
   "nbconvert_exporter": "python",
   "pygments_lexer": "ipython3",
   "version": "3.10.12"
  }
 },
 "nbformat": 4,
 "nbformat_minor": 2
}
